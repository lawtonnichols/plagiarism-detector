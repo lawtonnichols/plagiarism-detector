{
 "cells": [
  {
   "cell_type": "code",
   "execution_count": 1,
   "metadata": {
    "collapsed": true
   },
   "outputs": [],
   "source": [
    "import csv"
   ]
  },
  {
   "cell_type": "code",
   "execution_count": 2,
   "metadata": {
    "collapsed": false
   },
   "outputs": [],
   "source": [
    "import matplotlib.pyplot as plt"
   ]
  },
  {
   "cell_type": "code",
   "execution_count": 3,
   "metadata": {
    "collapsed": false
   },
   "outputs": [],
   "source": [
    "def chop(x):\n",
    "    return x.split(\"/\")[-1].split(\".\")[0]"
   ]
  },
  {
   "cell_type": "code",
   "execution_count": 3,
   "metadata": {
    "collapsed": true
   },
   "outputs": [],
   "source": [
    "import numpy as np"
   ]
  },
  {
   "cell_type": "code",
   "execution_count": 4,
   "metadata": {
    "collapsed": true
   },
   "outputs": [],
   "source": [
    "def groundTruth(csvfile):\n",
    "    f = open(csvfile)\n",
    "    rows = [row for row in csv.reader(f)]\n",
    "    rows = rows[1:]\n",
    "    f.close()\n",
    "    isClone = {}\n",
    "    for a, b, clonep in rows:\n",
    "        if clonep.strip() == \"True\":\n",
    "            clonep = True\n",
    "        elif clonep.strip() == \"False\":\n",
    "            clonep = False\n",
    "        else:\n",
    "            raise Exception(\"%s is not a Boolean!\" % clonep)\n",
    "        isClone[(a.strip(), b.strip())] = clonep\n",
    "    return isClone"
   ]
  },
  {
   "cell_type": "code",
   "execution_count": 5,
   "metadata": {
    "collapsed": false
   },
   "outputs": [],
   "source": [
    "isClone = groundTruth(\"experiment-results/same-file-pairs/ground-truth-antlr-js-java.csv\")"
   ]
  },
  {
   "cell_type": "code",
   "execution_count": 6,
   "metadata": {
    "collapsed": true
   },
   "outputs": [],
   "source": [
    "def getData(csvfile, isClone, isDistance=False):\n",
    "    f = open(csvfile)\n",
    "    rows = [row for row in csv.reader(f)]\n",
    "    rows = rows[1:]\n",
    "    f.close()\n",
    "    if isDistance:\n",
    "        fScore = lambda x: 1 - float(x)\n",
    "    else:\n",
    "        fScore = float\n",
    "    data = [(fScore(row[2].strip()), isClone[(row[0].strip(), row[1].strip())]) for row in rows]\n",
    "    data.sort()\n",
    "    clones = [int(r[1]) for r in data]\n",
    "    scores = [r[0] for r in data]\n",
    "    return scores, clones"
   ]
  },
  {
   "cell_type": "code",
   "execution_count": 46,
   "metadata": {
    "collapsed": false
   },
   "outputs": [],
   "source": [
    "scores, clones = getData(\"experiment-results/antlr-param-search/filtered/test_5_-2_commented.json.csv\", isClone)"
   ]
  },
  {
   "cell_type": "code",
   "execution_count": 52,
   "metadata": {
    "collapsed": true
   },
   "outputs": [],
   "source": [
    "theirScores, theirClones = getData(\"experiment-results/antlr/mining.csv\", isClone, True)"
   ]
  },
  {
   "cell_type": "code",
   "execution_count": 53,
   "metadata": {
    "collapsed": false
   },
   "outputs": [],
   "source": [
    "badScores, badClones = getData(\"experiment-results/antlr-param-search/filtered/test_0.5_-4_commented.json.csv\", isClone)"
   ]
  },
  {
   "cell_type": "code",
   "execution_count": 10,
   "metadata": {
    "collapsed": false
   },
   "outputs": [
    {
     "data": {
      "text/plain": [
       "[<matplotlib.lines.Line2D at 0x7f914c5a8b70>]"
      ]
     },
     "execution_count": 10,
     "metadata": {},
     "output_type": "execute_result"
    }
   ],
   "source": [
    "plt.plot(scores, np.cumsum(clones), 'b-')"
   ]
  },
  {
   "cell_type": "code",
   "execution_count": 11,
   "metadata": {
    "collapsed": false
   },
   "outputs": [
    {
     "data": {
      "text/plain": [
       "[<matplotlib.lines.Line2D at 0x7f9149512860>]"
      ]
     },
     "execution_count": 11,
     "metadata": {},
     "output_type": "execute_result"
    }
   ],
   "source": [
    "plt.plot(theirScores, np.cumsum(theirClones), 'r-')"
   ]
  },
  {
   "cell_type": "code",
   "execution_count": 12,
   "metadata": {
    "collapsed": false
   },
   "outputs": [],
   "source": [
    "plt.show()"
   ]
  },
  {
   "cell_type": "code",
   "execution_count": 135,
   "metadata": {
    "collapsed": false
   },
   "outputs": [],
   "source": [
    "definitelyClones = [i for i in isClone if isClone[i]]"
   ]
  },
  {
   "cell_type": "code",
   "execution_count": 136,
   "metadata": {
    "collapsed": false
   },
   "outputs": [
    {
     "data": {
      "text/plain": [
       "24"
      ]
     },
     "execution_count": 136,
     "metadata": {},
     "output_type": "execute_result"
    }
   ],
   "source": [
    "len(definitelyClones)"
   ]
  },
  {
   "cell_type": "code",
   "execution_count": 29,
   "metadata": {
    "collapsed": false
   },
   "outputs": [
    {
     "data": {
      "text/plain": [
       "13"
      ]
     },
     "execution_count": 29,
     "metadata": {},
     "output_type": "execute_result"
    }
   ],
   "source": [
    "np.sum(theirClones)"
   ]
  },
  {
   "cell_type": "code",
   "execution_count": 13,
   "metadata": {
    "collapsed": true
   },
   "outputs": [],
   "source": [
    "def findBin(x, nBins):\n",
    "    return np.floor(x * 10)"
   ]
  },
  {
   "cell_type": "code",
   "execution_count": 74,
   "metadata": {
    "collapsed": true
   },
   "outputs": [],
   "source": [
    "def findRatios(scores, clones, nBins):\n",
    "    bins = np.zeros(nBins)\n",
    "    nonCloneBins = np.zeros(nBins)\n",
    "    for s, c in zip(scores, clones):\n",
    "        if c:\n",
    "            bins[findBin(s, nBins)] += 1\n",
    "        else:\n",
    "            nonCloneBins[findBin(s, nBins)] += 1\n",
    "    cbins = np.cumsum(bins[::-1])\n",
    "    cnonCloneBins = np.cumsum(nonCloneBins[::-1])\n",
    "    return np.nan_to_num(cbins / (cbins + cnonCloneBins))"
   ]
  },
  {
   "cell_type": "code",
   "execution_count": 75,
   "metadata": {
    "collapsed": false
   },
   "outputs": [
    {
     "name": "stderr",
     "output_type": "stream",
     "text": [
      "/usr/local/lib/python3.5/dist-packages/ipykernel/__main__.py:8: VisibleDeprecationWarning: using a non-integer number instead of an integer will result in an error in the future\n",
      "/usr/local/lib/python3.5/dist-packages/ipykernel/__main__.py:6: VisibleDeprecationWarning: using a non-integer number instead of an integer will result in an error in the future\n",
      "/usr/local/lib/python3.5/dist-packages/ipykernel/__main__.py:11: RuntimeWarning: invalid value encountered in true_divide\n"
     ]
    }
   ],
   "source": [
    "theirs = findRatios(theirScores, theirClones, 10)"
   ]
  },
  {
   "cell_type": "code",
   "execution_count": 76,
   "metadata": {
    "collapsed": false
   },
   "outputs": [
    {
     "name": "stderr",
     "output_type": "stream",
     "text": [
      "/usr/local/lib/python3.5/dist-packages/ipykernel/__main__.py:8: VisibleDeprecationWarning: using a non-integer number instead of an integer will result in an error in the future\n",
      "/usr/local/lib/python3.5/dist-packages/ipykernel/__main__.py:6: VisibleDeprecationWarning: using a non-integer number instead of an integer will result in an error in the future\n",
      "/usr/local/lib/python3.5/dist-packages/ipykernel/__main__.py:11: RuntimeWarning: invalid value encountered in true_divide\n"
     ]
    }
   ],
   "source": [
    "ours = findRatios(scores, clones, 10)"
   ]
  },
  {
   "cell_type": "code",
   "execution_count": 77,
   "metadata": {
    "collapsed": false
   },
   "outputs": [
    {
     "name": "stderr",
     "output_type": "stream",
     "text": [
      "/usr/local/lib/python3.5/dist-packages/ipykernel/__main__.py:8: VisibleDeprecationWarning: using a non-integer number instead of an integer will result in an error in the future\n",
      "/usr/local/lib/python3.5/dist-packages/ipykernel/__main__.py:6: VisibleDeprecationWarning: using a non-integer number instead of an integer will result in an error in the future\n",
      "/usr/local/lib/python3.5/dist-packages/ipykernel/__main__.py:11: RuntimeWarning: invalid value encountered in true_divide\n"
     ]
    }
   ],
   "source": [
    "bads = findRatios(badScores, badClones, 10)"
   ]
  },
  {
   "cell_type": "code",
   "execution_count": 90,
   "metadata": {
    "collapsed": true
   },
   "outputs": [],
   "source": [
    "bins = np.linspace(0.0, 0.9, 10)"
   ]
  },
  {
   "cell_type": "code",
   "execution_count": 91,
   "metadata": {
    "collapsed": false
   },
   "outputs": [
    {
     "data": {
      "text/plain": [
       "[<matplotlib.lines.Line2D at 0x7f914c818278>]"
      ]
     },
     "execution_count": 91,
     "metadata": {},
     "output_type": "execute_result"
    }
   ],
   "source": [
    "plt.plot(bins, ours, 'ro-')"
   ]
  },
  {
   "cell_type": "code",
   "execution_count": 92,
   "metadata": {
    "collapsed": false
   },
   "outputs": [
    {
     "data": {
      "text/plain": [
       "[<matplotlib.lines.Line2D at 0x7f914c818c50>]"
      ]
     },
     "execution_count": 92,
     "metadata": {},
     "output_type": "execute_result"
    }
   ],
   "source": [
    "plt.plot(bins, theirs, 'bo-')"
   ]
  },
  {
   "cell_type": "code",
   "execution_count": 93,
   "metadata": {
    "collapsed": false
   },
   "outputs": [
    {
     "data": {
      "text/plain": [
       "[<matplotlib.lines.Line2D at 0x7f914c818e80>]"
      ]
     },
     "execution_count": 93,
     "metadata": {},
     "output_type": "execute_result"
    }
   ],
   "source": [
    "plt.plot(bins, bads, 'ko-')"
   ]
  },
  {
   "cell_type": "code",
   "execution_count": 94,
   "metadata": {
    "collapsed": false
   },
   "outputs": [
    {
     "data": {
      "text/plain": [
       "[<matplotlib.lines.Line2D at 0x7f914c81ff28>]"
      ]
     },
     "execution_count": 94,
     "metadata": {},
     "output_type": "execute_result"
    }
   ],
   "source": [
    "plt.plot(bins, np.linspace(0, ours[-1], 10), 'g--')"
   ]
  },
  {
   "cell_type": "code",
   "execution_count": 95,
   "metadata": {
    "collapsed": true
   },
   "outputs": [],
   "source": [
    "plt.show()"
   ]
  },
  {
   "cell_type": "code",
   "execution_count": 67,
   "metadata": {
    "collapsed": false
   },
   "outputs": [
    {
     "name": "stdout",
     "output_type": "stream",
     "text": [
      "183\n"
     ]
    }
   ],
   "source": [
    "for i in range(len(theirClones)):\n",
    "    if theirScores[i] < 0.2 and theirClones[i]:\n",
    "        print(i)\n",
    "        "
   ]
  },
  {
   "cell_type": "code",
   "execution_count": 96,
   "metadata": {
    "collapsed": false
   },
   "outputs": [],
   "source": [
    "sp = [s for s, c in zip(scores, clones) if c]"
   ]
  },
  {
   "cell_type": "code",
   "execution_count": 97,
   "metadata": {
    "collapsed": true
   },
   "outputs": [],
   "source": [
    "sn = [s for s, c in zip(scores, clones) if not c]"
   ]
  },
  {
   "cell_type": "code",
   "execution_count": 144,
   "metadata": {
    "collapsed": false
   },
   "outputs": [
    {
     "data": {
      "text/plain": [
       "[<matplotlib.lines.Line2D at 0x7f91486effd0>]"
      ]
     },
     "execution_count": 144,
     "metadata": {},
     "output_type": "execute_result"
    }
   ],
   "source": [
    "plt.plot(np.zeros(len(sn)), sn, 'b+')"
   ]
  },
  {
   "cell_type": "code",
   "execution_count": 145,
   "metadata": {
    "collapsed": false
   },
   "outputs": [
    {
     "data": {
      "text/plain": [
       "[<matplotlib.lines.Line2D at 0x7f91486f48d0>]"
      ]
     },
     "execution_count": 145,
     "metadata": {},
     "output_type": "execute_result"
    }
   ],
   "source": [
    "plt.plot(np.zeros(len(sp)), sp, 'rx')"
   ]
  },
  {
   "cell_type": "code",
   "execution_count": 146,
   "metadata": {
    "collapsed": false
   },
   "outputs": [
    {
     "data": {
      "text/plain": [
       "[<matplotlib.lines.Line2D at 0x7f91486fcc88>]"
      ]
     },
     "execution_count": 146,
     "metadata": {},
     "output_type": "execute_result"
    }
   ],
   "source": [
    "tsp = [s for s, c in zip(theirScores, theirClones) if c]\n",
    "tsn = [s for s, c in zip(theirScores, theirClones) if not c]\n",
    "plt.plot(np.zeros(len(tsn))+1, tsn, 'b+')\n",
    "plt.plot(np.zeros(len(tsp))+1, tsp, 'rx')"
   ]
  },
  {
   "cell_type": "code",
   "execution_count": 147,
   "metadata": {
    "collapsed": false
   },
   "outputs": [
    {
     "data": {
      "text/plain": [
       "(-1, 2)"
      ]
     },
     "execution_count": 147,
     "metadata": {},
     "output_type": "execute_result"
    }
   ],
   "source": [
    "plt.xlim(-1,2)"
   ]
  },
  {
   "cell_type": "code",
   "execution_count": 148,
   "metadata": {
    "collapsed": true
   },
   "outputs": [],
   "source": [
    "plt.show()"
   ]
  },
  {
   "cell_type": "code",
   "execution_count": 150,
   "metadata": {
    "collapsed": true
   },
   "outputs": [],
   "source": [
    "colors=['red', 'blue'] * 2"
   ]
  },
  {
   "cell_type": "code",
   "execution_count": 177,
   "metadata": {
    "collapsed": false
   },
   "outputs": [],
   "source": [
    "bplot = plt.boxplot([sp, sn, tsp, tsn], notch=True, vert=True, patch_artist=True, whis='range', positions=[0, 0, 1, 1], labels=['Fett', 'Fett', 'CLCMiner', 'CLCMiner'])"
   ]
  },
  {
   "cell_type": "code",
   "execution_count": 178,
   "metadata": {
    "collapsed": false
   },
   "outputs": [],
   "source": [
    "for patch, color in zip(bplot['boxes'], colors):\n",
    "    patch.set_facecolor(color)\n",
    "for patch, color in zip(bplot['fliers'], colors):\n",
    "    patch.set_color(color)\n",
    "for patch, color in zip(bplot['whiskers'], ['red', 'red', 'blue', 'blue'] * 2):\n",
    "    patch.set_color(color)"
   ]
  },
  {
   "cell_type": "code",
   "execution_count": 179,
   "metadata": {
    "collapsed": true
   },
   "outputs": [],
   "source": [
    "plt.show()"
   ]
  },
  {
   "cell_type": "code",
   "execution_count": 167,
   "metadata": {
    "collapsed": false
   },
   "outputs": [
    {
     "data": {
      "text/plain": [
       "{'boxes': [<matplotlib.patches.PathPatch at 0x7f91480b6cc0>,\n",
       "  <matplotlib.patches.PathPatch at 0x7f91480cf630>,\n",
       "  <matplotlib.patches.PathPatch at 0x7f91480deda0>,\n",
       "  <matplotlib.patches.PathPatch at 0x7f91480f4550>],\n",
       " 'caps': [<matplotlib.lines.Line2D at 0x7f91480bce48>,\n",
       "  <matplotlib.lines.Line2D at 0x7f91480c0da0>,\n",
       "  <matplotlib.lines.Line2D at 0x7f91480d4cf8>,\n",
       "  <matplotlib.lines.Line2D at 0x7f91480d4e10>,\n",
       "  <matplotlib.lines.Line2D at 0x7f91480e4d68>,\n",
       "  <matplotlib.lines.Line2D at 0x7f91480eacc0>,\n",
       "  <matplotlib.lines.Line2D at 0x7f914807dc18>,\n",
       "  <matplotlib.lines.Line2D at 0x7f914807dd30>],\n",
       " 'fliers': [<matplotlib.lines.Line2D at 0x7f91480c7e10>,\n",
       "  <matplotlib.lines.Line2D at 0x7f91480dbe80>,\n",
       "  <matplotlib.lines.Line2D at 0x7f91480efd30>,\n",
       "  <matplotlib.lines.Line2D at 0x7f9148082da0>],\n",
       " 'means': [],\n",
       " 'medians': [<matplotlib.lines.Line2D at 0x7f91480c0eb8>,\n",
       "  <matplotlib.lines.Line2D at 0x7f91480db668>,\n",
       "  <matplotlib.lines.Line2D at 0x7f91480eadd8>,\n",
       "  <matplotlib.lines.Line2D at 0x7f9148082588>],\n",
       " 'whiskers': [<matplotlib.lines.Line2D at 0x7f91480bc358>,\n",
       "  <matplotlib.lines.Line2D at 0x7f91480bcd30>,\n",
       "  <matplotlib.lines.Line2D at 0x7f91480cfba8>,\n",
       "  <matplotlib.lines.Line2D at 0x7f91480cfd30>,\n",
       "  <matplotlib.lines.Line2D at 0x7f91480e4358>,\n",
       "  <matplotlib.lines.Line2D at 0x7f91480e4c50>,\n",
       "  <matplotlib.lines.Line2D at 0x7f91480f4ac8>,\n",
       "  <matplotlib.lines.Line2D at 0x7f91480f4c50>]}"
      ]
     },
     "execution_count": 167,
     "metadata": {},
     "output_type": "execute_result"
    }
   ],
   "source": [
    "bplot"
   ]
  },
  {
   "cell_type": "code",
   "execution_count": null,
   "metadata": {
    "collapsed": true
   },
   "outputs": [],
   "source": []
  }
 ],
 "metadata": {
  "kernelspec": {
   "display_name": "Python 3",
   "language": "python",
   "name": "python3"
  },
  "language_info": {
   "codemirror_mode": {
    "name": "ipython",
    "version": 3
   },
   "file_extension": ".py",
   "mimetype": "text/x-python",
   "name": "python",
   "nbconvert_exporter": "python",
   "pygments_lexer": "ipython3",
   "version": "3.5.2"
  }
 },
 "nbformat": 4,
 "nbformat_minor": 0
}
